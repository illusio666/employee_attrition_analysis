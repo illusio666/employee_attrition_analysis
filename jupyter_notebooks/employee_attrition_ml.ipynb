{
 "cells": [
  {
   "cell_type": "markdown",
   "id": "62341c2a",
   "metadata": {},
   "source": [
    "# Using machine learning to identity clusters of 'at risk' employees."
   ]
  },
  {
   "cell_type": "code",
   "execution_count": 1,
   "id": "988af030",
   "metadata": {},
   "outputs": [],
   "source": [
    "## Step 1 - Import necessary libraries\n",
    "import sklearn\n",
    "import joblib  # for saving an ml model\n"
   ]
  },
  {
   "cell_type": "markdown",
   "id": "fbf06867",
   "metadata": {},
   "source": [
    "Identifying causes of attrition and enabling the business to identify different groups of 'at risk' employees is key. \n",
    "\n",
    "This notebook will create a model that will assess the 1400 rows of data currently available (split by 'train' and 'test' groups) to identify if there are logical groupings of exited staff, to enable future departures to be anticipated and, if desired, attempts made to retain."
   ]
  }
 ],
 "metadata": {
  "kernelspec": {
   "display_name": ".venv",
   "language": "python",
   "name": "python3"
  },
  "language_info": {
   "codemirror_mode": {
    "name": "ipython",
    "version": 3
   },
   "file_extension": ".py",
   "mimetype": "text/x-python",
   "name": "python",
   "nbconvert_exporter": "python",
   "pygments_lexer": "ipython3",
   "version": "3.11.9"
  }
 },
 "nbformat": 4,
 "nbformat_minor": 5
}
