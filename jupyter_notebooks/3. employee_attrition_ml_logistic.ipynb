{
 "cells": [
  {
   "cell_type": "markdown",
   "id": "62341c2a",
   "metadata": {},
   "source": [
    "# Using machine learning to predict likelihood of an employee leaving"
   ]
  },
  {
   "cell_type": "markdown",
   "id": "fe314994",
   "metadata": {},
   "source": [
    "Using the data collected, we will use ML to identify patterns in employee data that will allow us to predict likely leavers before they actually resign.\n",
    "\n",
    "We will use SciKitLearn to look for correlations in data for the Leavers v. Remainers, focusing in on those features of the data that most predict attrition.\n",
    "\n",
    "This workbook will look at the prediction of attrition; the subsequent notebook 4. will then look to cluster leavers into similar groups, so that HR and the business can use those profiles to develop a retention strategy."
   ]
  },
  {
   "cell_type": "code",
   "execution_count": 3,
   "id": "988af030",
   "metadata": {},
   "outputs": [],
   "source": [
    "## Step 1 - Import necessary libraries\n",
    "import pandas as pd\n",
    "import sklearn\n",
    "import joblib  # for saving an ml model\n",
    "\n",
    "# Robust data-file finder and loader (uses a relative path for reading)\n",
    "from pathlib import Path\n",
    "import os\n"
   ]
  },
  {
   "cell_type": "markdown",
   "id": "fbf06867",
   "metadata": {},
   "source": []
  },
  {
   "cell_type": "markdown",
   "id": "24ce3933",
   "metadata": {},
   "source": [
    "### Step 1 - import the cleaned data"
   ]
  },
  {
   "cell_type": "code",
   "execution_count": 4,
   "id": "e4534960",
   "metadata": {},
   "outputs": [
    {
     "name": "stdout",
     "output_type": "stream",
     "text": [
      "<class 'pandas.core.frame.DataFrame'>\n",
      "RangeIndex: 1470 entries, 0 to 1469\n",
      "Data columns (total 39 columns):\n",
      " #   Column                        Non-Null Count  Dtype  \n",
      "---  ------                        --------------  -----  \n",
      " 0   Age                           1470 non-null   int64  \n",
      " 1   Attrition                     1470 non-null   object \n",
      " 2   BusinessTravel                1470 non-null   object \n",
      " 3   DailyRate                     1470 non-null   int64  \n",
      " 4   Department                    1470 non-null   object \n",
      " 5   DistanceFromHome              1470 non-null   int64  \n",
      " 6   Education                     1470 non-null   object \n",
      " 7   EducationField                1470 non-null   object \n",
      " 8   EnvironmentSatisfaction       1470 non-null   object \n",
      " 9   Gender                        1470 non-null   object \n",
      " 10  HourlyRate                    1470 non-null   int64  \n",
      " 11  JobInvolvement                1470 non-null   object \n",
      " 12  JobLevel                      1470 non-null   int64  \n",
      " 13  JobRole                       1470 non-null   object \n",
      " 14  JobSatisfaction               1470 non-null   object \n",
      " 15  MaritalStatus                 1470 non-null   object \n",
      " 16  MonthlyIncome                 1470 non-null   int64  \n",
      " 17  MonthlyRate                   1470 non-null   int64  \n",
      " 18  NumCompaniesWorked            1470 non-null   int64  \n",
      " 19  OverTime                      1470 non-null   object \n",
      " 20  PercentSalaryHike             1470 non-null   int64  \n",
      " 21  PerformanceRating             1470 non-null   object \n",
      " 22  RelationshipSatisfaction      1470 non-null   object \n",
      " 23  StockOptionLevel              1470 non-null   int64  \n",
      " 24  TotalWorkingYears             1470 non-null   int64  \n",
      " 25  TrainingTimesLastYear         1470 non-null   int64  \n",
      " 26  WorkLifeBalance               1470 non-null   object \n",
      " 27  YearsAtCompany                1470 non-null   int64  \n",
      " 28  YearsInCurrentRole            1470 non-null   int64  \n",
      " 29  YearsSinceLastPromotion       1470 non-null   int64  \n",
      " 30  YearsWithCurrManager          1470 non-null   int64  \n",
      " 31  RoleTenureRatio               1470 non-null   float64\n",
      " 32  ManagerTenureRatio            1470 non-null   float64\n",
      " 33  IncomeTenureRatio             1470 non-null   float64\n",
      " 34  IncomeTotalWorkRatio          1470 non-null   float64\n",
      " 35  RoleTenureRatio_was_nan       1470 non-null   int64  \n",
      " 36  ManagerTenureRatio_was_nan    1470 non-null   int64  \n",
      " 37  IncomeTenureRatio_was_nan     1470 non-null   int64  \n",
      " 38  IncomeTotalWorkRatio_was_nan  1470 non-null   int64  \n",
      "dtypes: float64(4), int64(20), object(15)\n",
      "memory usage: 448.0+ KB\n",
      "None\n",
      "   Age Attrition     BusinessTravel  DailyRate              Department  \\\n",
      "0   41       Yes      Travel_Rarely       1102                   Sales   \n",
      "1   49        No  Travel_Frequently        279  Research & Development   \n",
      "2   37       Yes      Travel_Rarely       1373  Research & Development   \n",
      "3   33        No  Travel_Frequently       1392  Research & Development   \n",
      "4   27        No      Travel_Rarely        591  Research & Development   \n",
      "\n",
      "   DistanceFromHome        Education EducationField EnvironmentSatisfaction  \\\n",
      "0                 1        2-College  Life Sciences                2-Medium   \n",
      "1                 8  1-Below College  Life Sciences                  3-High   \n",
      "2                 2        2-College          Other             4-Very High   \n",
      "3                 3         4-Master  Life Sciences             4-Very High   \n",
      "4                 2  1-Below College        Medical                   1-Low   \n",
      "\n",
      "   Gender  ...  YearsSinceLastPromotion YearsWithCurrManager  RoleTenureRatio  \\\n",
      "0  Female  ...                        0                    5             0.67   \n",
      "1    Male  ...                        1                    7             0.70   \n",
      "2    Male  ...                        0                    0             0.00   \n",
      "3  Female  ...                        3                    0             0.88   \n",
      "4    Male  ...                        2                    2             1.00   \n",
      "\n",
      "  ManagerTenureRatio IncomeTenureRatio IncomeTotalWorkRatio  \\\n",
      "0               0.83            998.83               749.12   \n",
      "1               0.70            513.00               513.00   \n",
      "2               0.00              0.00               298.57   \n",
      "3               0.00            363.62               363.62   \n",
      "4               1.00           1734.00               578.00   \n",
      "\n",
      "   RoleTenureRatio_was_nan  ManagerTenureRatio_was_nan  \\\n",
      "0                        0                           0   \n",
      "1                        0                           0   \n",
      "2                        0                           0   \n",
      "3                        0                           0   \n",
      "4                        0                           0   \n",
      "\n",
      "   IncomeTenureRatio_was_nan IncomeTotalWorkRatio_was_nan  \n",
      "0                          0                            0  \n",
      "1                          0                            0  \n",
      "2                          0                            0  \n",
      "3                          0                            0  \n",
      "4                          0                            0  \n",
      "\n",
      "[5 rows x 39 columns]\n"
     ]
    }
   ],
   "source": [
    "# Load cleaned data using an explicit relative path\n",
    "df = pd.read_csv('../Data files/HR_Attrition_Cleaned.csv')\n",
    "\n",
    "print(df.info())\n",
    "print(df.head())\n"
   ]
  },
  {
   "cell_type": "markdown",
   "id": "8d69513b",
   "metadata": {},
   "source": [
    "### Step 2 - Data preparation for ML\n",
    "\n",
    "Next, as we're working with a mix of numeric and string columns, we'll identify the data types in readiness to encoding. But our target column (Attrition) needs to be removed."
   ]
  },
  {
   "cell_type": "code",
   "execution_count": 5,
   "id": "cca4b70f",
   "metadata": {},
   "outputs": [],
   "source": [
    "target_col = \"Attrition\"\n",
    "\n",
    "numeric_cols = df.select_dtypes(include=[\"int64\", \"float64\"]).columns.tolist()\n",
    "categorical_cols = df.select_dtypes(include=[\"object\", \"category\"]).columns.tolist()\n",
    "\n",
    "# Remove target from both lists if present\n",
    "numeric_cols = [col for col in numeric_cols if col != target_col]\n",
    "categorical_cols = [col for col in categorical_cols if col != target_col]"
   ]
  },
  {
   "cell_type": "markdown",
   "id": "24820435",
   "metadata": {},
   "source": [
    "Now we need to split our data into a training set and then a testing set."
   ]
  },
  {
   "cell_type": "code",
   "execution_count": 6,
   "id": "af75ecab",
   "metadata": {},
   "outputs": [
    {
     "name": "stdout",
     "output_type": "stream",
     "text": [
      "Train shape: (1029, 38) (1029,)\n",
      "Test shape: (441, 38) (441,)\n"
     ]
    }
   ],
   "source": [
    "from sklearn.model_selection import train_test_split\n",
    "\n",
    "X = df.drop(target_col, axis=1)\n",
    "y = df[target_col]\n",
    "\n",
    "X_train, X_test, y_train, y_test = train_test_split(\n",
    "    X, y, test_size=0.3, random_state=101\n",
    ")\n",
    "\n",
    "print(\"Train shape:\", X_train.shape, y_train.shape)\n",
    "print(\"Test shape:\", X_test.shape, y_test.shape)"
   ]
  },
  {
   "cell_type": "markdown",
   "id": "116e8f32",
   "metadata": {},
   "source": [
    "Now we need to pre-process our data to allow the pipeline to handle those different data types"
   ]
  },
  {
   "cell_type": "code",
   "execution_count": 7,
   "id": "eaef6f18",
   "metadata": {},
   "outputs": [],
   "source": [
    "from sklearn.preprocessing import StandardScaler, OneHotEncoder\n",
    "from sklearn.compose import ColumnTransformer\n",
    "from sklearn.pipeline import Pipeline\n",
    "\n",
    "preprocessor = ColumnTransformer(transformers=[\n",
    "    (\"num\", StandardScaler(), numeric_cols),\n",
    "    (\"cat\", OneHotEncoder(handle_unknown=\"ignore\", sparse_output=False), categorical_cols)\n",
    "])"
   ]
  },
  {
   "cell_type": "markdown",
   "id": "d7ada56c",
   "metadata": {},
   "source": [
    "### Step 3 - build pipeline, create model\n",
    "\n",
    "Now the pipeline model can be built. We are using Random Forest because it handles mixed data sets, can identify complex interactions (ydata-profiling already identified that there's no single strong correlation for Attrition) and can rank importance. It is also more appropriate for 'imbalanced' data sets, like attrition, where values are more likely to be in the 'still employed' side of the data."
   ]
  },
  {
   "cell_type": "code",
   "execution_count": 8,
   "id": "f32cac78",
   "metadata": {},
   "outputs": [],
   "source": [
    "from sklearn.ensemble import RandomForestClassifier\n",
    "\n",
    "pipeline = Pipeline([\n",
    "    (\"preprocessing\", preprocessor),\n",
    "    (\"model\", RandomForestClassifier(random_state=42))\n",
    "])"
   ]
  },
  {
   "cell_type": "markdown",
   "id": "8dff1f22",
   "metadata": {},
   "source": [
    "Now we train the model using the 'train' data set"
   ]
  },
  {
   "cell_type": "code",
   "execution_count": 9,
   "id": "addd1737",
   "metadata": {},
   "outputs": [
    {
     "name": "stdout",
     "output_type": "stream",
     "text": [
      "Model score: 0.8526077097505669\n"
     ]
    }
   ],
   "source": [
    "pipeline.fit(X_train, y_train)\n",
    "print(\"Model score:\", pipeline.score(X_test, y_test))"
   ]
  },
  {
   "cell_type": "markdown",
   "id": "b105251b",
   "metadata": {},
   "source": [
    "While a score of 0.85 indicates a strong accuracy rate, this can sometimes be misleading if there is not an even split in the data. So we need to understand if the prediction of 'Yes' to attrition is strong, rather than a mean score across the group."
   ]
  },
  {
   "cell_type": "code",
   "execution_count": 10,
   "id": "12806def",
   "metadata": {},
   "outputs": [
    {
     "data": {
      "text/plain": [
       "Attrition\n",
       "No     0.838776\n",
       "Yes    0.161224\n",
       "Name: proportion, dtype: float64"
      ]
     },
     "execution_count": 10,
     "metadata": {},
     "output_type": "execute_result"
    }
   ],
   "source": [
    "#show the split of data between yes and no for attrition\n",
    "df[\"Attrition\"].value_counts(normalize=True)"
   ]
  },
  {
   "cell_type": "code",
   "execution_count": 11,
   "id": "1ab409cb",
   "metadata": {},
   "outputs": [
    {
     "name": "stdout",
     "output_type": "stream",
     "text": [
      "              precision    recall  f1-score   support\n",
      "\n",
      "          No       0.86      0.98      0.92       371\n",
      "         Yes       0.65      0.16      0.25        70\n",
      "\n",
      "    accuracy                           0.85       441\n",
      "   macro avg       0.75      0.57      0.59       441\n",
      "weighted avg       0.83      0.85      0.81       441\n",
      "\n"
     ]
    }
   ],
   "source": [
    "#check accuracy for each of the two groups\n",
    "from sklearn.metrics import classification_report\n",
    "y_pred = pipeline.predict(X_test)\n",
    "print(classification_report(y_test, y_pred))"
   ]
  },
  {
   "cell_type": "markdown",
   "id": "c431a474",
   "metadata": {},
   "source": [
    "The model is right 65% of the time when it predicts attrition to be Yes (precision) but it's only picking up 16% of the actual leavers (recall).\n",
    "\n",
    "So we need to try to fine tune the model to improve its accuracy."
   ]
  },
  {
   "cell_type": "markdown",
   "id": "14d03a31",
   "metadata": {},
   "source": [
    "### Step 4 - improve outcomes\n",
    "\n",
    "We have several options to refine the model, and we will do those until we have an acceptable level of accuracy.\n",
    "\n",
    "Firstly, we will look at the remaining features and test their importance, so we can just focus on the ones that most impact outcomes, and we will rerun the model just using those (noise reduction)."
   ]
  },
  {
   "cell_type": "code",
   "execution_count": 25,
   "id": "1c6fe66c",
   "metadata": {},
   "outputs": [
    {
     "name": "stdout",
     "output_type": "stream",
     "text": [
      "Top features by absolute coefficient:\n",
      "                      Feature  Coefficient\n",
      "17        NumCompaniesWorked     0.195917\n",
      "28   YearsSinceLastPromotion     0.188691\n",
      "18                  OverTime     0.156309\n",
      "7    EnvironmentSatisfaction    -0.151511\n",
      "13           JobSatisfaction    -0.144049\n",
      "22          StockOptionLevel    -0.140917\n",
      "14             MaritalStatus     0.130485\n",
      "27        YearsInCurrentRole    -0.121354\n",
      "10            JobInvolvement    -0.117063\n",
      "29      YearsWithCurrManager    -0.109985\n",
      "24     TrainingTimesLastYear    -0.093578\n",
      "12                   JobRole     0.089917\n",
      "21  RelationshipSatisfaction    -0.063699\n",
      "25           WorkLifeBalance    -0.061738\n",
      "26            YearsAtCompany     0.052905\n",
      "0                        Age    -0.047981\n",
      "3                 Department     0.043124\n",
      "23         TotalWorkingYears     0.042925\n",
      "6             EducationField     0.037377\n",
      "30           RoleTenureRatio    -0.035221\n"
     ]
    },
    {
     "name": "stderr",
     "output_type": "stream",
     "text": [
      "c:\\Users\\rache\\.vscode\\ml\\.venv\\Lib\\site-packages\\sklearn\\linear_model\\_logistic.py:460: ConvergenceWarning: lbfgs failed to converge (status=1):\n",
      "STOP: TOTAL NO. of ITERATIONS REACHED LIMIT.\n",
      "\n",
      "Increase the number of iterations (max_iter) or scale the data as shown in:\n",
      "    https://scikit-learn.org/stable/modules/preprocessing.html\n",
      "Please also refer to the documentation for alternative solver options:\n",
      "    https://scikit-learn.org/stable/modules/linear_model.html#logistic-regression\n",
      "  n_iter_i = _check_optimize_result(\n"
     ]
    }
   ],
   "source": [
    "from sklearn.linear_model import LogisticRegression\n",
    "\n",
    "# Fit logistic regression to all encoded features\n",
    "model = LogisticRegression(max_iter=1000)\n",
    "model.fit(X_encoded, y)\n",
    "\n",
    "# Create feature importance DataFrame\n",
    "importance = pd.DataFrame({\n",
    "    \"Feature\": X_encoded.columns,\n",
    "    \"Coefficient\": model.coef_[0]\n",
    "}).sort_values(by=\"Coefficient\", key=abs, ascending=False)\n",
    "\n",
    "print(\"Top features by absolute coefficient:\\n\", importance.head(20))"
   ]
  },
  {
   "cell_type": "code",
   "execution_count": 27,
   "id": "fd40f821",
   "metadata": {},
   "outputs": [
    {
     "data": {
      "image/png": "[encoded data removed]",
      "text/plain": [
       "<Figure size 800x600 with 1 Axes>"
      ]
     },
     "metadata": {},
     "output_type": "display_data"
    }
   ],
   "source": [
    "import matplotlib.pyplot as plt\n",
    "\n",
    "# Plot top 10 features by absolute coefficient\n",
    "top_n = 20\n",
    "top_features = importance.head(top_n).sort_values(by=\"Coefficient\")\n",
    "\n",
    "plt.figure(figsize=(8, 6))\n",
    "plt.barh(top_features[\"Feature\"], top_features[\"Coefficient\"], color=\"steelblue\")\n",
    "plt.axvline(0, color=\"gray\", linestyle=\"--\")\n",
    "plt.title(\"Top 10 Features by Logistic Coefficient\")\n",
    "plt.xlabel(\"Coefficient Value\")\n",
    "plt.tight_layout()\n",
    "plt.show()"
   ]
  },
  {
   "cell_type": "markdown",
   "id": "7b38c77e",
   "metadata": {},
   "source": [
    "We will now rerun the pipeline using just these 20 fields to see how that affects our ability to predict attrition."
   ]
  },
  {
   "cell_type": "code",
   "execution_count": 28,
   "id": "1ddf2736",
   "metadata": {},
   "outputs": [],
   "source": [
    "# Already fitted logistic model on full X_encoded\n",
    "importance = pd.DataFrame({\n",
    "    \"Feature\": X_encoded.columns,\n",
    "    \"Coefficient\": model.coef_[0]\n",
    "}).sort_values(by=\"Coefficient\", key=abs, ascending=False)\n",
    "\n",
    "# Get top 20 feature names\n",
    "top_20_features = importance[\"Feature\"].head(20).tolist()"
   ]
  },
  {
   "cell_type": "code",
   "execution_count": 29,
   "id": "29fc011c",
   "metadata": {},
   "outputs": [],
   "source": [
    "# Create reduced feature matrix\n",
    "X_top20 = X_encoded[top_20_features]"
   ]
  },
  {
   "cell_type": "code",
   "execution_count": 32,
   "id": "695e8ae9",
   "metadata": {},
   "outputs": [
    {
     "name": "stdout",
     "output_type": "stream",
     "text": [
      "Precision (Yes): 0.619\n",
      "Recall (Yes):    0.333\n"
     ]
    }
   ],
   "source": [
    "from sklearn.metrics import precision_score, recall_score\n",
    "\n",
    "# Predict and evaluate\n",
    "y_pred = model_top20.predict(X_test)\n",
    "\n",
    "# Precision and recall for the 'Yes' class\n",
    "precision = precision_score(y_test, y_pred, pos_label=\"Yes\")\n",
    "recall = recall_score(y_test, y_pred, pos_label=\"Yes\")\n",
    "\n",
    "print(f\"Precision (Yes): {precision:.3f}\")\n",
    "print(f\"Recall (Yes):    {recall:.3f}\")"
   ]
  },
  {
   "cell_type": "markdown",
   "id": "466ec41c",
   "metadata": {},
   "source": [
    "While recall is improved over intial run, precision is slightly less. So next step, now we have our top 20 features, will be to add some synthetic data, to offset the issue of an imbalanced dataset and give the fit() more to work on."
   ]
  },
  {
   "cell_type": "code",
   "execution_count": null,
   "id": "ffccbe7b",
   "metadata": {},
   "outputs": [],
   "source": [
    "# Apply SMOTE to top 20 features\n",
    "\n",
    "from imblearn.over_sampling import SMOTE\n",
    "smote = SMOTE(random_state=42)\n",
    "X_balanced, y_balanced = smote.fit_resample(X_top20, y)"
   ]
  },
  {
   "cell_type": "code",
   "execution_count": 40,
   "id": "4f9a1b2e",
   "metadata": {},
   "outputs": [
    {
     "name": "stdout",
     "output_type": "stream",
     "text": [
      "Train shape: (1726, 20) (1726,)\n",
      "Test shape: (740, 20) (740,)\n"
     ]
    }
   ],
   "source": [
    "# Train-test split on balanced data\n",
    "\n",
    "from sklearn.model_selection import train_test_split\n",
    "\n",
    "X_train, X_test, y_train, y_test = train_test_split(\n",
    "    X_balanced, y_balanced, test_size=0.3, random_state=42\n",
    ")\n",
    "print(\"Train shape:\", X_train.shape, y_train.shape)\n",
    "print(\"Test shape:\", X_test.shape, y_test.shape)"
   ]
  },
  {
   "cell_type": "code",
   "execution_count": 43,
   "id": "32e358bf",
   "metadata": {},
   "outputs": [
    {
     "name": "stdout",
     "output_type": "stream",
     "text": [
      "Balanced RF Precision (Yes): 0.923\n",
      "Balanced RF Recall (Yes):    0.900\n"
     ]
    }
   ],
   "source": [
    "# train on new enhanced data using BalancedRandomForest as it's better for enhanced imbalanced datasets\n",
    "\n",
    "import warnings\n",
    "from imblearn.ensemble import BalancedRandomForestClassifier\n",
    "from sklearn.metrics import precision_score, recall_score\n",
    "\n",
    "# Suppress future warnings\n",
    "warnings.simplefilter(action='ignore', category=FutureWarning)\n",
    "\n",
    "# Initialize and fit model\n",
    "brf_model = BalancedRandomForestClassifier(n_estimators=100, random_state=42)\n",
    "brf_model.fit(X_train, y_train)\n",
    "\n",
    "# Predict and evaluate\n",
    "y_pred = brf_model.predict(X_test)\n",
    "precision = precision_score(y_test, y_pred, pos_label=\"Yes\")\n",
    "recall = recall_score(y_test, y_pred, pos_label=\"Yes\")\n",
    "\n",
    "print(f\"Balanced RF Precision (Yes): {precision:.3f}\")\n",
    "print(f\"Balanced RF Recall (Yes):    {recall:.3f}\")"
   ]
  },
  {
   "cell_type": "markdown",
   "id": "f2862211",
   "metadata": {},
   "source": [
    "Over 90% for both precision and recall is a significant improvement and so will be used as the model going forward."
   ]
  },
  {
   "cell_type": "code",
   "execution_count": 44,
   "id": "6199b987",
   "metadata": {},
   "outputs": [
    {
     "data": {
      "text/plain": [
       "['logistic_attrition_model.pkl']"
      ]
     },
     "execution_count": 44,
     "metadata": {},
     "output_type": "execute_result"
    }
   ],
   "source": [
    "# Save the pipeline to a file\n",
    "joblib.dump(brf_model, \"logistic_attrition_model.pkl\")"
   ]
  }
 ],
 "metadata": {
  "kernelspec": {
   "display_name": "Python (ml)",
   "language": "python",
   "name": "ml"
  },
  "language_info": {
   "codemirror_mode": {
    "name": "ipython",
    "version": 3
   },
   "file_extension": ".py",
   "mimetype": "text/x-python",
   "name": "python",
   "nbconvert_exporter": "python",
   "pygments_lexer": "ipython3",
   "version": "3.12.10"
  }
 },
 "nbformat": 4,
 "nbformat_minor": 5
}
