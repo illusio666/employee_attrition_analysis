{
 "cells": [
  {
   "cell_type": "markdown",
   "id": "bf924086",
   "metadata": {},
   "source": [
    "## 3. Exploratory Data Analysis\n",
    "- Attrition distribution\n",
    "- Summary stats\n",
    "- Visuals: histograms, boxplots, bar charts"
   ]
  },
  {
   "cell_type": "markdown",
   "id": "76ca7dfb",
   "metadata": {},
   "source": [
    "Attrition distribution visual + observations"
   ]
  },
  {
   "cell_type": "markdown",
   "id": "5ef6c413",
   "metadata": {},
   "source": [
    "Summary stats visuals + observations"
   ]
  },
  {
   "cell_type": "markdown",
   "id": "9c4cf2f0",
   "metadata": {},
   "source": [
    "Additional tests - chi-squared, linear regression, ?Pearsons, and conclusions"
   ]
  },
  {
   "cell_type": "markdown",
   "id": "58ac98cd",
   "metadata": {},
   "source": [
    "Findings and recommendations summary"
   ]
  }
 ],
 "metadata": {
  "language_info": {
   "name": "python"
  }
 },
 "nbformat": 4,
 "nbformat_minor": 5
}
