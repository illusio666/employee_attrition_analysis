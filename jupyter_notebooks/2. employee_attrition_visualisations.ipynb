{
 "cells": [
  {
   "cell_type": "markdown",
   "id": "bf924086",
   "metadata": {},
   "source": [
    "# Employee Attrition analysis - visualisations\n",
    "\n",
    "The four base hypotheses set for investigation are as follows:\n",
    "\n",
    "- Hypothesis 1 - No one department has greater attrition than the others\n",
    "- Hypothesis 2 - Job stagnation leads to attrition \n",
    "- Hypothesis 3 - Attrition is greater for younger employees\n",
    "- Hypothesis 4 - Commute distance has an impact on retention.\n",
    "\n",
    "As the ydata profile did not show any 1:1 correlation between attrition and employee satisfaction scores, those will not be looked at in this section. However, in the machine learning section, those will be included in the data to see if there is a more nuanced relationship when looking for patterns."
   ]
  },
  {
   "cell_type": "code",
   "execution_count": 20,
   "id": "eea05ffd",
   "metadata": {},
   "outputs": [],
   "source": [
    "## Step 1 - Import necessary libraries\n",
    "import numpy as np\n",
    "import pandas as pd\n",
    "import matplotlib.pyplot as plt\n",
    "import seaborn as sns\n",
    "import plotly.express as px\n",
    "import scipy.stats\n",
    "%matplotlib inline"
   ]
  },
  {
   "cell_type": "code",
   "execution_count": 10,
   "id": "c3702c2b",
   "metadata": {},
   "outputs": [
    {
     "name": "stdout",
     "output_type": "stream",
     "text": [
      "<class 'pandas.core.frame.DataFrame'>\n",
      "RangeIndex: 1470 entries, 0 to 1469\n",
      "Data columns (total 39 columns):\n",
      " #   Column                        Non-Null Count  Dtype  \n",
      "---  ------                        --------------  -----  \n",
      " 0   Age                           1470 non-null   int64  \n",
      " 1   Attrition                     1470 non-null   object \n",
      " 2   BusinessTravel                1470 non-null   object \n",
      " 3   DailyRate                     1470 non-null   int64  \n",
      " 4   Department                    1470 non-null   object \n",
      " 5   DistanceFromHome              1470 non-null   int64  \n",
      " 6   Education                     1470 non-null   object \n",
      " 7   EducationField                1470 non-null   object \n",
      " 8   EnvironmentSatisfaction       1470 non-null   object \n",
      " 9   Gender                        1470 non-null   object \n",
      " 10  HourlyRate                    1470 non-null   int64  \n",
      " 11  JobInvolvement                1470 non-null   object \n",
      " 12  JobLevel                      1470 non-null   int64  \n",
      " 13  JobRole                       1470 non-null   object \n",
      " 14  JobSatisfaction               1470 non-null   object \n",
      " 15  MaritalStatus                 1470 non-null   object \n",
      " 16  MonthlyIncome                 1470 non-null   int64  \n",
      " 17  MonthlyRate                   1470 non-null   int64  \n",
      " 18  NumCompaniesWorked            1470 non-null   int64  \n",
      " 19  OverTime                      1470 non-null   object \n",
      " 20  PercentSalaryHike             1470 non-null   int64  \n",
      " 21  PerformanceRating             1470 non-null   object \n",
      " 22  RelationshipSatisfaction      1470 non-null   object \n",
      " 23  StockOptionLevel              1470 non-null   int64  \n",
      " 24  TotalWorkingYears             1470 non-null   int64  \n",
      " 25  TrainingTimesLastYear         1470 non-null   int64  \n",
      " 26  WorkLifeBalance               1470 non-null   object \n",
      " 27  YearsAtCompany                1470 non-null   int64  \n",
      " 28  YearsInCurrentRole            1470 non-null   int64  \n",
      " 29  YearsSinceLastPromotion       1470 non-null   int64  \n",
      " 30  YearsWithCurrManager          1470 non-null   int64  \n",
      " 31  RoleTenureRatio               1470 non-null   float64\n",
      " 32  ManagerTenureRatio            1470 non-null   float64\n",
      " 33  IncomeTenureRatio             1470 non-null   float64\n",
      " 34  IncomeTotalWorkRatio          1470 non-null   float64\n",
      " 35  RoleTenureRatio_was_nan       1470 non-null   int64  \n",
      " 36  ManagerTenureRatio_was_nan    1470 non-null   int64  \n",
      " 37  IncomeTenureRatio_was_nan     1470 non-null   int64  \n",
      " 38  IncomeTotalWorkRatio_was_nan  1470 non-null   int64  \n",
      "dtypes: float64(4), int64(20), object(15)\n",
      "memory usage: 448.0+ KB\n",
      "None\n",
      "   Age Attrition     BusinessTravel  DailyRate              Department  \\\n",
      "0   41       Yes      Travel_Rarely       1102                   Sales   \n",
      "1   49        No  Travel_Frequently        279  Research & Development   \n",
      "2   37       Yes      Travel_Rarely       1373  Research & Development   \n",
      "3   33        No  Travel_Frequently       1392  Research & Development   \n",
      "4   27        No      Travel_Rarely        591  Research & Development   \n",
      "\n",
      "   DistanceFromHome        Education EducationField EnvironmentSatisfaction  \\\n",
      "0                 1        2-College  Life Sciences                2-Medium   \n",
      "1                 8  1-Below College  Life Sciences                  3-High   \n",
      "2                 2        2-College          Other             4-Very High   \n",
      "3                 3         4-Master  Life Sciences             4-Very High   \n",
      "4                 2  1-Below College        Medical                   1-Low   \n",
      "\n",
      "   Gender  ...  YearsSinceLastPromotion YearsWithCurrManager  RoleTenureRatio  \\\n",
      "0  Female  ...                        0                    5             0.67   \n",
      "1    Male  ...                        1                    7             0.70   \n",
      "2    Male  ...                        0                    0             0.00   \n",
      "3  Female  ...                        3                    0             0.88   \n",
      "4    Male  ...                        2                    2             1.00   \n",
      "\n",
      "  ManagerTenureRatio IncomeTenureRatio IncomeTotalWorkRatio  \\\n",
      "0               0.83            998.83               749.12   \n",
      "1               0.70            513.00               513.00   \n",
      "2               0.00              0.00               298.57   \n",
      "3               0.00            363.62               363.62   \n",
      "4               1.00           1734.00               578.00   \n",
      "\n",
      "   RoleTenureRatio_was_nan  ManagerTenureRatio_was_nan  \\\n",
      "0                        0                           0   \n",
      "1                        0                           0   \n",
      "2                        0                           0   \n",
      "3                        0                           0   \n",
      "4                        0                           0   \n",
      "\n",
      "   IncomeTenureRatio_was_nan IncomeTotalWorkRatio_was_nan  \n",
      "0                          0                            0  \n",
      "1                          0                            0  \n",
      "2                          0                            0  \n",
      "3                          0                            0  \n",
      "4                          0                            0  \n",
      "\n",
      "[5 rows x 39 columns]\n"
     ]
    }
   ],
   "source": [
    "#Step 2 - import cleaned data into dataframe\n",
    "df = pd.read_csv('../Data files/HR_Attrition_Cleaned.csv')\n",
    "\n",
    "print(df.info())\n",
    "print(df.head())"
   ]
  },
  {
   "cell_type": "markdown",
   "id": "14599b84",
   "metadata": {},
   "source": [
    "---"
   ]
  },
  {
   "cell_type": "markdown",
   "id": "5b2feead",
   "metadata": {},
   "source": [
    "### Hypothesis 1 - no one department has greater attrition than the others.\n",
    "To test this hypothesis we will look at the proportion of attrition per department rather than absolute numbers."
   ]
  },
  {
   "cell_type": "code",
   "execution_count": 11,
   "id": "84f20513",
   "metadata": {},
   "outputs": [
    {
     "data": {
      "image/png": "[encoded data removed]",
      "text/plain": [
       "<Figure size 1000x600 with 1 Axes>"
      ]
     },
     "metadata": {},
     "output_type": "display_data"
    }
   ],
   "source": [
    "# Create the plot\n",
    "attrition_counts = df.groupby(['Department', 'Attrition']).size().unstack(fill_value=0)\n",
    "attrition_proportions = attrition_counts.div(attrition_counts.sum(axis=1), axis=0)\n",
    "\n",
    "fig, ax = plt.subplots(figsize=(10, 6))  # ⬅️ Wider figure to give space\n",
    "\n",
    "attrition_proportions.plot(\n",
    "    kind='barh',\n",
    "    stacked=True,\n",
    "    color=['skyblue', 'salmon'],\n",
    "    ax=ax\n",
    ")\n",
    "\n",
    "#Set titles and labels\n",
    "ax.set_title('Proportion of Employee Attrition by Department')\n",
    "ax.set_xlabel('Proportion')\n",
    "ax.set_ylabel('Department')\n",
    "\n",
    "# Annotate attrition % inside the \"Yes\" (salmon) segment\n",
    "for index, (no_val, yes_val) in enumerate(zip(attrition_proportions['No'], attrition_proportions['Yes'])):\n",
    "    x_pos = no_val + yes_val / 2\n",
    "    ax.text(x_pos, index, f\"{yes_val:.1%}\", va='center', ha='center', color='black')\n",
    "\n",
    "#change x axis to a % scale\n",
    "ax.xaxis.set_major_formatter(plt.FuncFormatter(lambda x, _: f'{x:.0%}'))\n",
    "\n",
    "# Move legend outside the plot area\n",
    "ax.legend(loc='center left', bbox_to_anchor=(1.0, 0.5))  # ⬅️ Push legend to the right\n",
    "\n",
    "plt.tight_layout()  # ⬅️ Adjust layout to prevent clipping\n",
    "plt.show()\n"
   ]
  },
  {
   "cell_type": "markdown",
   "id": "89d8f7af",
   "metadata": {},
   "source": [
    "This shows us that Research and Dev has the lowest attrition, but we need to check if this is statistically significant. To do this, we use a Chi-squared test to indicate if there is a significance. A p-value of <0.05 indicates a statistical significance.\n"
   ]
  },
  {
   "cell_type": "code",
   "execution_count": 12,
   "id": "cd2cde45",
   "metadata": {},
   "outputs": [
    {
     "name": "stdout",
     "output_type": "stream",
     "text": [
      "Chi-squared statistic: 10.796\n",
      "p-value: 0.0045\n"
     ]
    }
   ],
   "source": [
    "import pandas as pd\n",
    "from scipy.stats import chi2_contingency\n",
    "\n",
    "# Create a contingency table\n",
    "contingency = pd.crosstab(df[\"Department\"], df[\"Attrition\"])\n",
    "\n",
    "# Run the chi-squared test\n",
    "chi2, p, dof, expected = chi2_contingency(contingency)\n",
    "\n",
    "print(f\"Chi-squared statistic: {chi2:.3f}\")\n",
    "print(f\"p-value: {p:.4f}\")"
   ]
  },
  {
   "cell_type": "markdown",
   "id": "dc9ab081",
   "metadata": {},
   "source": [
    "### Hypothesis 1 outcome: \n",
    "\n",
    "A p-value of 0.0045 shows that this is indeed statistically significant, and so consideration should be given (survey, focus groups?) to why working in R&D might result in greater job 'stickiness'.\n",
    "\n",
    "Human resource and Sales have similar attrition that would warrant further investigation as to cause."
   ]
  },
  {
   "cell_type": "markdown",
   "id": "844bc594",
   "metadata": {},
   "source": [
    "---"
   ]
  },
  {
   "cell_type": "markdown",
   "id": "835becfc",
   "metadata": {},
   "source": [
    "### Hypothesis 2 - Job stagnation leads to greater attrition\n",
    "\n",
    "The company wishes to check if leaving people 'too long' in the same role prompts them to leave. Therefore we will look at how long our attrition group were in their final role compared to the average for the existing staff."
   ]
  },
  {
   "cell_type": "code",
   "execution_count": 18,
   "id": "67f3d356",
   "metadata": {},
   "outputs": [
    {
     "data": {
      "image/png": "[encoded data removed]",
      "text/plain": [
       "<Figure size 1400x600 with 2 Axes>"
      ]
     },
     "metadata": {},
     "output_type": "display_data"
    }
   ],
   "source": [
    "#side-by-side violin plots for YearsInCurrentRole and YearsAtCompany\n",
    "import seaborn as sns\n",
    "import matplotlib.pyplot as plt\n",
    "\n",
    "fig, axes = plt.subplots(1, 2, figsize=(14, 6), sharey=True)\n",
    "\n",
    "# Plot for YearsInCurrentRole\n",
    "sns.violinplot(\n",
    "    ax=axes[0],\n",
    "    x=\"Attrition\",\n",
    "    y=\"YearsInCurrentRole\",\n",
    "    hue=\"Attrition\",\n",
    "    data=df,\n",
    "    inner=\"quartile\",\n",
    "    palette=\"Set2\",\n",
    "    legend=False\n",
    ")\n",
    "\n",
    "axes[0].set_title(\"Years in Current Role by Attrition\")\n",
    "\n",
    "# Plot for YearsAtCompany\n",
    "sns.violinplot(\n",
    "    ax=axes[1],\n",
    "    x=\"Attrition\",\n",
    "    y=\"YearsAtCompany\",\n",
    "    hue=\"Attrition\",\n",
    "    data=df,\n",
    "    inner=\"quartile\",\n",
    "    palette=\"Set2\",\n",
    "    legend=False\n",
    ")\n",
    "axes[1].set_title(\"Years at Company by Attrition\")\n",
    "\n",
    "plt.tight_layout()\n",
    "plt.show()"
   ]
  },
  {
   "cell_type": "markdown",
   "id": "216cf742",
   "metadata": {},
   "source": [
    "It appears that the hypothesis is false, as lower quartile, median and upper quartile values show lower time in role for the 'Attrition' group in both charts.\n",
    "\n",
    "To test to see if this is significant, we first need to understand if this distribution follows a normal distribution curve\n",
    "\n",
    "It should be noted that there is no indication in the data set as to whether 'retirement' is counted as attrition, but as some YearsAtCompany values are >40years, it is presumed to be included. Further analysis would need the data to separate out retirees for a more accurate retention strategy clustering."
   ]
  },
  {
   "cell_type": "code",
   "execution_count": 19,
   "id": "cd304eaf",
   "metadata": {},
   "outputs": [
    {
     "data": {
      "image/png": "[encoded data removed]",
      "text/plain": [
       "<Figure size 640x480 with 1 Axes>"
      ]
     },
     "metadata": {},
     "output_type": "display_data"
    }
   ],
   "source": [
    "import seaborn as sns\n",
    "import matplotlib.pyplot as plt\n",
    "\n",
    "sns.histplot(df[\"YearsAtCompany\"], kde=True)\n",
    "plt.title(\"Distribution of Years at Company\")\n",
    "plt.show()"
   ]
  },
  {
   "cell_type": "markdown",
   "id": "951b6e70",
   "metadata": {},
   "source": [
    "As this is a right skewed distribution, we should do a Mann-Whitney U-test to check statistical significance. Again, a value 0.05 will indicate significance. We will test both YearsInCurentRole and YearsAtCompany."
   ]
  },
  {
   "cell_type": "code",
   "execution_count": 24,
   "id": "bb68a4e3",
   "metadata": {},
   "outputs": [
    {
     "name": "stdout",
     "output_type": "stream",
     "text": [
      "Mann–Whitney U statistic: 105214.000\n",
      "p-value: 0.0000\n"
     ]
    }
   ],
   "source": [
    "#Firstly check significance with a Mann-Whitney U-test on years in role (original hypothesis)\n",
    "from scipy.stats import mannwhitneyu\n",
    "\n",
    "# Split the data into two groups\n",
    "group_yes = df[df[\"Attrition\"] == \"Yes\"][\"YearsInCurrentRole\"]\n",
    "group_no = df[df[\"Attrition\"] == \"No\"][\"YearsInCurrentRole\"]\n",
    "\n",
    "# Run the Mann–Whitney U test\n",
    "u_stat, p_val = mannwhitneyu(group_yes, group_no, alternative=\"two-sided\")\n",
    "\n",
    "print(f\"Mann–Whitney U statistic: {u_stat:.3f}\")\n",
    "print(f\"p-value: {p_val:.4f}\")\n"
   ]
  },
  {
   "cell_type": "code",
   "execution_count": null,
   "id": "5be26caf",
   "metadata": {},
   "outputs": [
    {
     "name": "stdout",
     "output_type": "stream",
     "text": [
      "Mann–Whitney U statistic: 102582.000\n",
      "p-value: 0.0000\n"
     ]
    }
   ],
   "source": [
    "#Secondly check significance with a Mann-Whitney U-test on years at company\n",
    "from scipy.stats import mannwhitneyu\n",
    "\n",
    "# Split the data into two groups\n",
    "group_yes = df[df[\"Attrition\"] == \"Yes\"][\"YearsAtCompany\"]\n",
    "group_no = df[df[\"Attrition\"] == \"No\"][\"YearsAtCompany\"]\n",
    "\n",
    "# Run the Mann–Whitney U test\n",
    "u_stat, p_val = mannwhitneyu(group_yes, group_no, alternative=\"two-sided\")\n",
    "\n",
    "print(f\"Mann–Whitney U statistic: {u_stat:.3f}\")\n",
    "print(f\"p-value: {p_val:.4f}\")"
   ]
  },
  {
   "cell_type": "markdown",
   "id": "44a2e7fd",
   "metadata": {},
   "source": [
    "### Hypothesis 2 - outcome\n",
    "\n",
    "The original hypothesis is rejected; long time in role is NOT a cause of attrition.\n",
    "\n",
    "The contrary is strongly indicated; those employees with shorter tenure are at significantly greater risk than those who stay either in role or in company."
   ]
  },
  {
   "cell_type": "markdown",
   "id": "953384ba",
   "metadata": {},
   "source": [
    "---"
   ]
  },
  {
   "cell_type": "markdown",
   "id": "36f987f5",
   "metadata": {},
   "source": [
    "### Hypothesis 3 - younger employees are more likely to leave"
   ]
  },
  {
   "cell_type": "markdown",
   "id": "c1f95dc8",
   "metadata": {},
   "source": [
    "There is a question as to whether younger employees are more likely to 'job hop' than older ones. We will look at both individual data points but also grouping employees in age brackets to help visualise. We will also split by marital status, to see if this impacts retention for each age bracket."
   ]
  },
  {
   "cell_type": "code",
   "execution_count": 51,
   "id": "72c6a69f",
   "metadata": {},
   "outputs": [
    {
     "data": {
      "application/vnd.plotly.v1+json": {
       "config": {
        "plotlyServerURL": "https://plot.ly"
       },
       "data": [
        {
         "customdata": [
          [
           11
          ],
          [
           54
          ],
          [
           73
          ],
          [
           62
          ],
          [
           57
          ],
          [
           34
          ],
          [
           20
          ],
          [
           14
          ]
         ],
         "hovertemplate": "MaritalStatus=Divorced<br>Age Group=%{x}<br>Attrition Rate (%)=%{y}<br>Count=%{customdata[0]}<extra></extra>",
         "legendgroup": "Divorced",
         "marker": {
          "color": "#636efa",
          "size": [
           11,
           54,
           73,
           62,
           57,
           34,
           20,
           14
          ],
          "sizemode": "area",
          "sizeref": 0.3625,
          "symbol": "circle"
         },
         "mode": "markers",
         "name": "Divorced",
         "orientation": "v",
         "showlegend": true,
         "type": "scatter",
         "x": [
          "20–24",
          "25–29",
          "30–34",
          "35–39",
          "40–44",
          "45–49",
          "50–54",
          "55–59"
         ],
         "xaxis": "x",
         "y": [
          9.090909090909092,
          16.666666666666664,
          6.8493150684931505,
          14.516129032258066,
          8.771929824561402,
          2.941176470588235,
          10,
          7.142857142857142
         ],
         "yaxis": "y"
        },
        {
         "customdata": [
          [
           30
          ],
          [
           100
          ],
          [
           143
          ],
          [
           145
          ],
          [
           94
          ],
          [
           69
          ],
          [
           58
          ],
          [
           32
          ]
         ],
         "hovertemplate": "MaritalStatus=Married<br>Age Group=%{x}<br>Attrition Rate (%)=%{y}<br>Count=%{customdata[0]}<extra></extra>",
         "legendgroup": "Married",
         "marker": {
          "color": "#EF553B",
          "size": [
           30,
           100,
           143,
           145,
           94,
           69,
           58,
           32
          ],
          "sizemode": "area",
          "sizeref": 0.3625,
          "symbol": "circle"
         },
         "mode": "markers",
         "name": "Married",
         "orientation": "v",
         "showlegend": true,
         "type": "scatter",
         "x": [
          "20–24",
          "25–29",
          "30–34",
          "35–39",
          "40–44",
          "45–49",
          "50–54",
          "55–59"
         ],
         "xaxis": "x",
         "y": [
          30,
          18,
          14.685314685314685,
          8.275862068965518,
          6.382978723404255,
          10.144927536231885,
          10.344827586206897,
          15.625
         ],
         "yaxis": "y"
        },
        {
         "customdata": [
          [
           39
          ],
          [
           75
          ],
          [
           109
          ],
          [
           90
          ],
          [
           57
          ],
          [
           38
          ],
          [
           26
          ],
          [
           18
          ]
         ],
         "hovertemplate": "MaritalStatus=Single<br>Age Group=%{x}<br>Attrition Rate (%)=%{y}<br>Count=%{customdata[0]}<extra></extra>",
         "legendgroup": "Single",
         "marker": {
          "color": "#00cc96",
          "size": [
           39,
           75,
           109,
           90,
           57,
           38,
           26,
           18
          ],
          "sizemode": "area",
          "sizeref": 0.3625,
          "symbol": "circle"
         },
         "mode": "markers",
         "name": "Single",
         "orientation": "v",
         "showlegend": true,
         "type": "scatter",
         "x": [
          "20–24",
          "25–29",
          "30–34",
          "35–39",
          "40–44",
          "45–49",
          "50–54",
          "55–59"
         ],
         "xaxis": "x",
         "y": [
          46.15384615384615,
          34.66666666666667,
          30.275229357798167,
          10,
          17.543859649122805,
          13.157894736842104,
          15.384615384615385,
          27.77777777777778
         ],
         "yaxis": "y"
        },
        {
         "line": {
          "color": "black",
          "dash": "dash"
         },
         "marker": {
          "size": 6
         },
         "mode": "lines+markers",
         "name": "Average Attrition Rate",
         "type": "scatter",
         "x": [
          "20–24",
          "25–29",
          "30–34",
          "35–39",
          "40–44",
          "45–49",
          "50–54",
          "55–59"
         ],
         "y": [
          35,
          23.144104803493452,
          18.153846153846153,
          10.1010101010101,
          10.096153846153847,
          9.219858156028367,
          11.538461538461538,
          17.1875
         ]
        }
       ],
       "layout": {
        "legend": {
         "itemsizing": "constant",
         "title": {
          "text": "MaritalStatus"
         },
         "tracegroupgap": 0
        },
        "template": {
         "data": {
          "bar": [
           {
            "error_x": {
             "color": "#2a3f5f"
            },
            "error_y": {
             "color": "#2a3f5f"
            },
            "marker": {
             "line": {
              "color": "#E5ECF6",
              "width": 0.5
             },
             "pattern": {
              "fillmode": "overlay",
              "size": 10,
              "solidity": 0.2
             }
            },
            "type": "bar"
           }
          ],
          "barpolar": [
           {
            "marker": {
             "line": {
              "color": "#E5ECF6",
              "width": 0.5
             },
             "pattern": {
              "fillmode": "overlay",
              "size": 10,
              "solidity": 0.2
             }
            },
            "type": "barpolar"
           }
          ],
          "carpet": [
           {
            "aaxis": {
             "endlinecolor": "#2a3f5f",
             "gridcolor": "white",
             "linecolor": "white",
             "minorgridcolor": "white",
             "startlinecolor": "#2a3f5f"
            },
            "baxis": {
             "endlinecolor": "#2a3f5f",
             "gridcolor": "white",
             "linecolor": "white",
             "minorgridcolor": "white",
             "startlinecolor": "#2a3f5f"
            },
            "type": "carpet"
           }
          ],
          "choropleth": [
           {
            "colorbar": {
             "outlinewidth": 0,
             "ticks": ""
            },
            "type": "choropleth"
           }
          ],
          "contour": [
           {
            "colorbar": {
             "outlinewidth": 0,
             "ticks": ""
            },
            "colorscale": [
             [
              0,
              "#0d0887"
             ],
             [
              0.1111111111111111,
              "#46039f"
             ],
             [
              0.2222222222222222,
              "#7201a8"
             ],
             [
              0.3333333333333333,
              "#9c179e"
             ],
             [
              0.4444444444444444,
              "#bd3786"
             ],
             [
              0.5555555555555556,
              "#d8576b"
             ],
             [
              0.6666666666666666,
              "#ed7953"
             ],
             [
              0.7777777777777778,
              "#fb9f3a"
             ],
             [
              0.8888888888888888,
              "#fdca26"
             ],
             [
              1,
              "#f0f921"
             ]
            ],
            "type": "contour"
           }
          ],
          "contourcarpet": [
           {
            "colorbar": {
             "outlinewidth": 0,
             "ticks": ""
            },
            "type": "contourcarpet"
           }
          ],
          "heatmap": [
           {
            "colorbar": {
             "outlinewidth": 0,
             "ticks": ""
            },
            "colorscale": [
             [
              0,
              "#0d0887"
             ],
             [
              0.1111111111111111,
              "#46039f"
             ],
             [
              0.2222222222222222,
              "#7201a8"
             ],
             [
              0.3333333333333333,
              "#9c179e"
             ],
             [
              0.4444444444444444,
              "#bd3786"
             ],
             [
              0.5555555555555556,
              "#d8576b"
             ],
             [
              0.6666666666666666,
              "#ed7953"
             ],
             [
              0.7777777777777778,
              "#fb9f3a"
             ],
             [
              0.8888888888888888,
              "#fdca26"
             ],
             [
              1,
              "#f0f921"
             ]
            ],
            "type": "heatmap"
           }
          ],
          "heatmapgl": [
           {
            "colorbar": {
             "outlinewidth": 0,
             "ticks": ""
            },
            "colorscale": [
             [
              0,
              "#0d0887"
             ],
             [
              0.1111111111111111,
              "#46039f"
             ],
             [
              0.2222222222222222,
              "#7201a8"
             ],
             [
              0.3333333333333333,
              "#9c179e"
             ],
             [
              0.4444444444444444,
              "#bd3786"
             ],
             [
              0.5555555555555556,
              "#d8576b"
             ],
             [
              0.6666666666666666,
              "#ed7953"
             ],
             [
              0.7777777777777778,
              "#fb9f3a"
             ],
             [
              0.8888888888888888,
              "#fdca26"
             ],
             [
              1,
              "#f0f921"
             ]
            ],
            "type": "heatmapgl"
           }
          ],
          "histogram": [
           {
            "marker": {
             "pattern": {
              "fillmode": "overlay",
              "size": 10,
              "solidity": 0.2
             }
            },
            "type": "histogram"
           }
          ],
          "histogram2d": [
           {
            "colorbar": {
             "outlinewidth": 0,
             "ticks": ""
            },
            "colorscale": [
             [
              0,
              "#0d0887"
             ],
             [
              0.1111111111111111,
              "#46039f"
             ],
             [
              0.2222222222222222,
              "#7201a8"
             ],
             [
              0.3333333333333333,
              "#9c179e"
             ],
             [
              0.4444444444444444,
              "#bd3786"
             ],
             [
              0.5555555555555556,
              "#d8576b"
             ],
             [
              0.6666666666666666,
              "#ed7953"
             ],
             [
              0.7777777777777778,
              "#fb9f3a"
             ],
             [
              0.8888888888888888,
              "#fdca26"
             ],
             [
              1,
              "#f0f921"
             ]
            ],
            "type": "histogram2d"
           }
          ],
          "histogram2dcontour": [
           {
            "colorbar": {
             "outlinewidth": 0,
             "ticks": ""
            },
            "colorscale": [
             [
              0,
              "#0d0887"
             ],
             [
              0.1111111111111111,
              "#46039f"
             ],
             [
              0.2222222222222222,
              "#7201a8"
             ],
             [
              0.3333333333333333,
              "#9c179e"
             ],
             [
              0.4444444444444444,
              "#bd3786"
             ],
             [
              0.5555555555555556,
              "#d8576b"
             ],
             [
              0.6666666666666666,
              "#ed7953"
             ],
             [
              0.7777777777777778,
              "#fb9f3a"
             ],
             [
              0.8888888888888888,
              "#fdca26"
             ],
             [
              1,
              "#f0f921"
             ]
            ],
            "type": "histogram2dcontour"
           }
          ],
          "mesh3d": [
           {
            "colorbar": {
             "outlinewidth": 0,
             "ticks": ""
            },
            "type": "mesh3d"
           }
          ],
          "parcoords": [
           {
            "line": {
             "colorbar": {
              "outlinewidth": 0,
              "ticks": ""
             }
            },
            "type": "parcoords"
           }
          ],
          "pie": [
           {
            "automargin": true,
            "type": "pie"
           }
          ],
          "scatter": [
           {
            "fillpattern": {
             "fillmode": "overlay",
             "size": 10,
             "solidity": 0.2
            },
            "type": "scatter"
           }
          ],
          "scatter3d": [
           {
            "line": {
             "colorbar": {
              "outlinewidth": 0,
              "ticks": ""
             }
            },
            "marker": {
             "colorbar": {
              "outlinewidth": 0,
              "ticks": ""
             }
            },
            "type": "scatter3d"
           }
          ],
          "scattercarpet": [
           {
            "marker": {
             "colorbar": {
              "outlinewidth": 0,
              "ticks": ""
             }
            },
            "type": "scattercarpet"
           }
          ],
          "scattergeo": [
           {
            "marker": {
             "colorbar": {
              "outlinewidth": 0,
              "ticks": ""
             }
            },
            "type": "scattergeo"
           }
          ],
          "scattergl": [
           {
            "marker": {
             "colorbar": {
              "outlinewidth": 0,
              "ticks": ""
             }
            },
            "type": "scattergl"
           }
          ],
          "scattermapbox": [
           {
            "marker": {
             "colorbar": {
              "outlinewidth": 0,
              "ticks": ""
             }
            },
            "type": "scattermapbox"
           }
          ],
          "scatterpolar": [
           {
            "marker": {
             "colorbar": {
              "outlinewidth": 0,
              "ticks": ""
             }
            },
            "type": "scatterpolar"
           }
          ],
          "scatterpolargl": [
           {
            "marker": {
             "colorbar": {
              "outlinewidth": 0,
              "ticks": ""
             }
            },
            "type": "scatterpolargl"
           }
          ],
          "scatterternary": [
           {
            "marker": {
             "colorbar": {
              "outlinewidth": 0,
              "ticks": ""
             }
            },
            "type": "scatterternary"
           }
          ],
          "surface": [
           {
            "colorbar": {
             "outlinewidth": 0,
             "ticks": ""
            },
            "colorscale": [
             [
              0,
              "#0d0887"
             ],
             [
              0.1111111111111111,
              "#46039f"
             ],
             [
              0.2222222222222222,
              "#7201a8"
             ],
             [
              0.3333333333333333,
              "#9c179e"
             ],
             [
              0.4444444444444444,
              "#bd3786"
             ],
             [
              0.5555555555555556,
              "#d8576b"
             ],
             [
              0.6666666666666666,
              "#ed7953"
             ],
             [
              0.7777777777777778,
              "#fb9f3a"
             ],
             [
              0.8888888888888888,
              "#fdca26"
             ],
             [
              1,
              "#f0f921"
             ]
            ],
            "type": "surface"
           }
          ],
          "table": [
           {
            "cells": {
             "fill": {
              "color": "#EBF0F8"
             },
             "line": {
              "color": "white"
             }
            },
            "header": {
             "fill": {
              "color": "#C8D4E3"
             },
             "line": {
              "color": "white"
             }
            },
            "type": "table"
           }
          ]
         },
         "layout": {
          "annotationdefaults": {
           "arrowcolor": "#2a3f5f",
           "arrowhead": 0,
           "arrowwidth": 1
          },
          "autotypenumbers": "strict",
          "coloraxis": {
           "colorbar": {
            "outlinewidth": 0,
            "ticks": ""
           }
          },
          "colorscale": {
           "diverging": [
            [
             0,
             "#8e0152"
            ],
            [
             0.1,
             "#c51b7d"
            ],
            [
             0.2,
             "#de77ae"
            ],
            [
             0.3,
             "#f1b6da"
            ],
            [
             0.4,
             "#fde0ef"
            ],
            [
             0.5,
             "#f7f7f7"
            ],
            [
             0.6,
             "#e6f5d0"
            ],
            [
             0.7,
             "#b8e186"
            ],
            [
             0.8,
             "#7fbc41"
            ],
            [
             0.9,
             "#4d9221"
            ],
            [
             1,
             "#276419"
            ]
           ],
           "sequential": [
            [
             0,
             "#0d0887"
            ],
            [
             0.1111111111111111,
             "#46039f"
            ],
            [
             0.2222222222222222,
             "#7201a8"
            ],
            [
             0.3333333333333333,
             "#9c179e"
            ],
            [
             0.4444444444444444,
             "#bd3786"
            ],
            [
             0.5555555555555556,
             "#d8576b"
            ],
            [
             0.6666666666666666,
             "#ed7953"
            ],
            [
             0.7777777777777778,
             "#fb9f3a"
            ],
            [
             0.8888888888888888,
             "#fdca26"
            ],
            [
             1,
             "#f0f921"
            ]
           ],
           "sequentialminus": [
            [
             0,
             "#0d0887"
            ],
            [
             0.1111111111111111,
             "#46039f"
            ],
            [
             0.2222222222222222,
             "#7201a8"
            ],
            [
             0.3333333333333333,
             "#9c179e"
            ],
            [
             0.4444444444444444,
             "#bd3786"
            ],
            [
             0.5555555555555556,
             "#d8576b"
            ],
            [
             0.6666666666666666,
             "#ed7953"
            ],
            [
             0.7777777777777778,
             "#fb9f3a"
            ],
            [
             0.8888888888888888,
             "#fdca26"
            ],
            [
             1,
             "#f0f921"
            ]
           ]
          },
          "colorway": [
           "#636efa",
           "#EF553B",
           "#00cc96",
           "#ab63fa",
           "#FFA15A",
           "#19d3f3",
           "#FF6692",
           "#B6E880",
           "#FF97FF",
           "#FECB52"
          ],
          "font": {
           "color": "#2a3f5f"
          },
          "geo": {
           "bgcolor": "white",
           "lakecolor": "white",
           "landcolor": "#E5ECF6",
           "showlakes": true,
           "showland": true,
           "subunitcolor": "white"
          },
          "hoverlabel": {
           "align": "left"
          },
          "hovermode": "closest",
          "mapbox": {
           "style": "light"
          },
          "paper_bgcolor": "white",
          "plot_bgcolor": "#E5ECF6",
          "polar": {
           "angularaxis": {
            "gridcolor": "white",
            "linecolor": "white",
            "ticks": ""
           },
           "bgcolor": "#E5ECF6",
           "radialaxis": {
            "gridcolor": "white",
            "linecolor": "white",
            "ticks": ""
           }
          },
          "scene": {
           "xaxis": {
            "backgroundcolor": "#E5ECF6",
            "gridcolor": "white",
            "gridwidth": 2,
            "linecolor": "white",
            "showbackground": true,
            "ticks": "",
            "zerolinecolor": "white"
           },
           "yaxis": {
            "backgroundcolor": "#E5ECF6",
            "gridcolor": "white",
            "gridwidth": 2,
            "linecolor": "white",
            "showbackground": true,
            "ticks": "",
            "zerolinecolor": "white"
           },
           "zaxis": {
            "backgroundcolor": "#E5ECF6",
            "gridcolor": "white",
            "gridwidth": 2,
            "linecolor": "white",
            "showbackground": true,
            "ticks": "",
            "zerolinecolor": "white"
           }
          },
          "shapedefaults": {
           "line": {
            "color": "#2a3f5f"
           }
          },
          "ternary": {
           "aaxis": {
            "gridcolor": "white",
            "linecolor": "white",
            "ticks": ""
           },
           "baxis": {
            "gridcolor": "white",
            "linecolor": "white",
            "ticks": ""
           },
           "bgcolor": "#E5ECF6",
           "caxis": {
            "gridcolor": "white",
            "linecolor": "white",
            "ticks": ""
           }
          },
          "title": {
           "x": 0.05
          },
          "xaxis": {
           "automargin": true,
           "gridcolor": "white",
           "linecolor": "white",
           "ticks": "",
           "title": {
            "standoff": 15
           },
           "zerolinecolor": "white",
           "zerolinewidth": 2
          },
          "yaxis": {
           "automargin": true,
           "gridcolor": "white",
           "linecolor": "white",
           "ticks": "",
           "title": {
            "standoff": 15
           },
           "zerolinecolor": "white",
           "zerolinewidth": 2
          }
         }
        },
        "title": {
         "text": "Attrition Rate (%) by Age Group and Marital Status<br><sup>Attrition rate reflects % of employees who exited within each group</sup>",
         "x": 0.5
        },
        "xaxis": {
         "anchor": "y",
         "domain": [
          0,
          1
         ],
         "tickangle": -45,
         "title": {
          "text": "Age Group"
         }
        },
        "yaxis": {
         "anchor": "x",
         "domain": [
          0,
          1
         ],
         "title": {
          "text": "Attrition Rate (%)"
         }
        }
       }
      }
     },
     "metadata": {},
     "output_type": "display_data"
    }
   ],
   "source": [
    "# Step 1: Create 5-year age bins using whole-number logic\n",
    "df[\"AgeGroup\"] = pd.cut(\n",
    "    df[\"Age\"],\n",
    "    bins=range(20, 61, 5),  # Extend to include upper bound\n",
    "    right=False,\n",
    "    include_lowest=True\n",
    ")\n",
    "\n",
    "# Step 2: Calculate attrition rate per AgeGroup + MaritalStatus\n",
    "grouped = (\n",
    "    df.groupby([\"AgeGroup\", \"MaritalStatus\"], observed=False)\n",
    "    .agg(AttritionRate=(\"Attrition\", lambda x: (x == \"Yes\").mean()),\n",
    "         Count=(\"Attrition\", \"count\"))\n",
    "    .reset_index()\n",
    ")\n",
    "\n",
    "# Step 3: Calculate average attrition rate per AgeGroup (across all marital statuses)\n",
    "avg_grouped = (\n",
    "    df.groupby(\"AgeGroup\", observed=False)\n",
    "    .agg(AvgAttritionRate=(\"Attrition\", lambda x: (x == \"Yes\").mean()))\n",
    "    .reset_index()\n",
    ")\n",
    "\n",
    "# Step 4: Format AgeGroup labels as \"20–24\", \"25–29\", etc.\n",
    "grouped[\"AgeGroup\"] = grouped[\"AgeGroup\"].apply(lambda x: f\"{int(x.left)}–{int(x.right - 1)}\")\n",
    "avg_grouped[\"AgeGroup\"] = avg_grouped[\"AgeGroup\"].apply(lambda x: f\"{int(x.left)}–{int(x.right - 1)}\")\n",
    "\n",
    "# Step 5: Convert to percentage\n",
    "grouped[\"AttritionRatePct\"] = grouped[\"AttritionRate\"] * 100\n",
    "avg_grouped[\"AvgAttritionRatePct\"] = avg_grouped[\"AvgAttritionRate\"] * 100\n",
    "\n",
    "# Step 6: Plot scatter\n",
    "fig = px.scatter(\n",
    "    grouped,\n",
    "    x=\"AgeGroup\",\n",
    "    y=\"AttritionRatePct\",\n",
    "    color=\"MaritalStatus\",\n",
    "    size=\"Count\",\n",
    "    title=\"Attrition Rate (%) by Age Group and Marital Status\",\n",
    "    labels={\"AttritionRatePct\": \"Attrition Rate (%)\", \"AgeGroup\": \"Age Group\"},\n",
    "    hover_data=[\"Count\"]\n",
    ")\n",
    "\n",
    "# Step 7: Add average line\n",
    "fig.add_scatter(\n",
    "    x=avg_grouped[\"AgeGroup\"],\n",
    "    y=avg_grouped[\"AvgAttritionRatePct\"],\n",
    "    mode=\"lines+markers\",\n",
    "    name=\"Average Attrition Rate\",\n",
    "    line=dict(color=\"black\", dash=\"dash\"),\n",
    "    marker=dict(size=6)\n",
    ")\n",
    "\n",
    "# Step 8: Subtitle and layout tweaks\n",
    "fig.update_layout(\n",
    "    title=dict(\n",
    "        text=\"Attrition Rate (%) by Age Group and Marital Status<br><sup>Attrition rate reflects % of employees who exited within each group</sup>\",\n",
    "        x=0.5\n",
    "    ),\n",
    "    xaxis_tickangle=-45\n",
    ")\n",
    "\n",
    "fig.show()\n",
    "\n"
   ]
  },
  {
   "cell_type": "markdown",
   "id": "3c42560f",
   "metadata": {},
   "source": [
    "As noted previously, there is no indication in this data set regarding retirees, and in the absence of confirmed markers, an assumption might be made that the increase in attrition in the 55-60 range could be related to retirement. Therefore we will choose to ignore that age bracket for this assessment.\n",
    "\n",
    "It should also be noted that for all bar one age bin, single employees are more likely to leave. Whether this is due to their lower financial commitments or greater autonomy, this is something to address with qualitative research."
   ]
  },
  {
   "cell_type": "markdown",
   "id": "0f182b68",
   "metadata": {},
   "source": [
    "### Hypothesis 3 - outcome\n",
    "\n",
    "Hypothesis 3 is proven.\n",
    "\n"
   ]
  },
  {
   "cell_type": "markdown",
   "id": "31f1c2d9",
   "metadata": {},
   "source": [
    "---"
   ]
  },
  {
   "cell_type": "markdown",
   "id": "beaff993",
   "metadata": {},
   "source": [
    "### Hypothesis 4 - Commute distance has an impact on retention\n",
    "\n"
   ]
  },
  {
   "cell_type": "markdown",
   "id": "997c01e0",
   "metadata": {},
   "source": [
    "Since remote working has been withdrawn, a question has been raised on whether we are seeing greater attrition from employees who live further away. We will look at if there is a relationship between commute and attrition, and how any factors from the previous proven hypothesis might impact it e.g. any greater or lesser sensitivty to commute for certain groups."
   ]
  },
  {
   "cell_type": "code",
   "execution_count": 49,
   "id": "7cf3680c",
   "metadata": {},
   "outputs": [
    {
     "data": {
      "application/vnd.plotly.v1+json": {
       "config": {
        "plotlyServerURL": "https://plot.ly"
       },
       "data": [
        {
         "alignmentgroup": "True",
         "hovertemplate": "Attrition=No<br>Commute Distance Bin=%{x}<br>% of Group=%{y}<br>text=%{text}<extra></extra>",
         "legendgroup": "No",
         "marker": {
          "color": "#636efa",
          "pattern": {
           "shape": ""
          }
         },
         "name": "No",
         "offsetgroup": "No",
         "orientation": "v",
         "showlegend": true,
         "text": [
          "39.7%",
          "25.7%",
          "11.7%",
          "8.3%",
          "7.1%",
          "7.5%"
         ],
         "textposition": "outside",
         "type": "bar",
         "x": [
          "0–4",
          "5–9",
          "10–14",
          "15–19",
          "20–24",
          "25–29"
         ],
         "xaxis": "x",
         "y": [
          39.74047039740471,
          25.70965125709651,
          11.678832116788321,
          8.27250608272506,
          7.0559610705596105,
          7.542579075425791
         ],
         "yaxis": "y"
        },
        {
         "alignmentgroup": "True",
         "hovertemplate": "Attrition=Yes<br>Commute Distance Bin=%{x}<br>% of Group=%{y}<br>text=%{text}<extra></extra>",
         "legendgroup": "Yes",
         "marker": {
          "color": "#EF553B",
          "pattern": {
           "shape": ""
          }
         },
         "name": "Yes",
         "offsetgroup": "Yes",
         "orientation": "v",
         "showlegend": true,
         "text": [
          "32.5%",
          "23.6%",
          "13.1%",
          "10.1%",
          "12.7%",
          "8.0%"
         ],
         "textposition": "outside",
         "type": "bar",
         "x": [
          "0–4",
          "5–9",
          "10–14",
          "15–19",
          "20–24",
          "25–29"
         ],
         "xaxis": "x",
         "y": [
          32.48945147679325,
          23.628691983122362,
          13.080168776371309,
          10.126582278481013,
          12.658227848101266,
          8.016877637130802
         ],
         "yaxis": "y"
        }
       ],
       "layout": {
        "barmode": "group",
        "legend": {
         "title": {
          "text": "Attrition"
         },
         "tracegroupgap": 0
        },
        "template": {
         "data": {
          "bar": [
           {
            "error_x": {
             "color": "#2a3f5f"
            },
            "error_y": {
             "color": "#2a3f5f"
            },
            "marker": {
             "line": {
              "color": "#E5ECF6",
              "width": 0.5
             },
             "pattern": {
              "fillmode": "overlay",
              "size": 10,
              "solidity": 0.2
             }
            },
            "type": "bar"
           }
          ],
          "barpolar": [
           {
            "marker": {
             "line": {
              "color": "#E5ECF6",
              "width": 0.5
             },
             "pattern": {
              "fillmode": "overlay",
              "size": 10,
              "solidity": 0.2
             }
            },
            "type": "barpolar"
           }
          ],
          "carpet": [
           {
            "aaxis": {
             "endlinecolor": "#2a3f5f",
             "gridcolor": "white",
             "linecolor": "white",
             "minorgridcolor": "white",
             "startlinecolor": "#2a3f5f"
            },
            "baxis": {
             "endlinecolor": "#2a3f5f",
             "gridcolor": "white",
             "linecolor": "white",
             "minorgridcolor": "white",
             "startlinecolor": "#2a3f5f"
            },
            "type": "carpet"
           }
          ],
          "choropleth": [
           {
            "colorbar": {
             "outlinewidth": 0,
             "ticks": ""
            },
            "type": "choropleth"
           }
          ],
          "contour": [
           {
            "colorbar": {
             "outlinewidth": 0,
             "ticks": ""
            },
            "colorscale": [
             [
              0,
              "#0d0887"
             ],
             [
              0.1111111111111111,
              "#46039f"
             ],
             [
              0.2222222222222222,
              "#7201a8"
             ],
             [
              0.3333333333333333,
              "#9c179e"
             ],
             [
              0.4444444444444444,
              "#bd3786"
             ],
             [
              0.5555555555555556,
              "#d8576b"
             ],
             [
              0.6666666666666666,
              "#ed7953"
             ],
             [
              0.7777777777777778,
              "#fb9f3a"
             ],
             [
              0.8888888888888888,
              "#fdca26"
             ],
             [
              1,
              "#f0f921"
             ]
            ],
            "type": "contour"
           }
          ],
          "contourcarpet": [
           {
            "colorbar": {
             "outlinewidth": 0,
             "ticks": ""
            },
            "type": "contourcarpet"
           }
          ],
          "heatmap": [
           {
            "colorbar": {
             "outlinewidth": 0,
             "ticks": ""
            },
            "colorscale": [
             [
              0,
              "#0d0887"
             ],
             [
              0.1111111111111111,
              "#46039f"
             ],
             [
              0.2222222222222222,
              "#7201a8"
             ],
             [
              0.3333333333333333,
              "#9c179e"
             ],
             [
              0.4444444444444444,
              "#bd3786"
             ],
             [
              0.5555555555555556,
              "#d8576b"
             ],
             [
              0.6666666666666666,
              "#ed7953"
             ],
             [
              0.7777777777777778,
              "#fb9f3a"
             ],
             [
              0.8888888888888888,
              "#fdca26"
             ],
             [
              1,
              "#f0f921"
             ]
            ],
            "type": "heatmap"
           }
          ],
          "heatmapgl": [
           {
            "colorbar": {
             "outlinewidth": 0,
             "ticks": ""
            },
            "colorscale": [
             [
              0,
              "#0d0887"
             ],
             [
              0.1111111111111111,
              "#46039f"
             ],
             [
              0.2222222222222222,
              "#7201a8"
             ],
             [
              0.3333333333333333,
              "#9c179e"
             ],
             [
              0.4444444444444444,
              "#bd3786"
             ],
             [
              0.5555555555555556,
              "#d8576b"
             ],
             [
              0.6666666666666666,
              "#ed7953"
             ],
             [
              0.7777777777777778,
              "#fb9f3a"
             ],
             [
              0.8888888888888888,
              "#fdca26"
             ],
             [
              1,
              "#f0f921"
             ]
            ],
            "type": "heatmapgl"
           }
          ],
          "histogram": [
           {
            "marker": {
             "pattern": {
              "fillmode": "overlay",
              "size": 10,
              "solidity": 0.2
             }
            },
            "type": "histogram"
           }
          ],
          "histogram2d": [
           {
            "colorbar": {
             "outlinewidth": 0,
             "ticks": ""
            },
            "colorscale": [
             [
              0,
              "#0d0887"
             ],
             [
              0.1111111111111111,
              "#46039f"
             ],
             [
              0.2222222222222222,
              "#7201a8"
             ],
             [
              0.3333333333333333,
              "#9c179e"
             ],
             [
              0.4444444444444444,
              "#bd3786"
             ],
             [
              0.5555555555555556,
              "#d8576b"
             ],
             [
              0.6666666666666666,
              "#ed7953"
             ],
             [
              0.7777777777777778,
              "#fb9f3a"
             ],
             [
              0.8888888888888888,
              "#fdca26"
             ],
             [
              1,
              "#f0f921"
             ]
            ],
            "type": "histogram2d"
           }
          ],
          "histogram2dcontour": [
           {
            "colorbar": {
             "outlinewidth": 0,
             "ticks": ""
            },
            "colorscale": [
             [
              0,
              "#0d0887"
             ],
             [
              0.1111111111111111,
              "#46039f"
             ],
             [
              0.2222222222222222,
              "#7201a8"
             ],
             [
              0.3333333333333333,
              "#9c179e"
             ],
             [
              0.4444444444444444,
              "#bd3786"
             ],
             [
              0.5555555555555556,
              "#d8576b"
             ],
             [
              0.6666666666666666,
              "#ed7953"
             ],
             [
              0.7777777777777778,
              "#fb9f3a"
             ],
             [
              0.8888888888888888,
              "#fdca26"
             ],
             [
              1,
              "#f0f921"
             ]
            ],
            "type": "histogram2dcontour"
           }
          ],
          "mesh3d": [
           {
            "colorbar": {
             "outlinewidth": 0,
             "ticks": ""
            },
            "type": "mesh3d"
           }
          ],
          "parcoords": [
           {
            "line": {
             "colorbar": {
              "outlinewidth": 0,
              "ticks": ""
             }
            },
            "type": "parcoords"
           }
          ],
          "pie": [
           {
            "automargin": true,
            "type": "pie"
           }
          ],
          "scatter": [
           {
            "fillpattern": {
             "fillmode": "overlay",
             "size": 10,
             "solidity": 0.2
            },
            "type": "scatter"
           }
          ],
          "scatter3d": [
           {
            "line": {
             "colorbar": {
              "outlinewidth": 0,
              "ticks": ""
             }
            },
            "marker": {
             "colorbar": {
              "outlinewidth": 0,
              "ticks": ""
             }
            },
            "type": "scatter3d"
           }
          ],
          "scattercarpet": [
           {
            "marker": {
             "colorbar": {
              "outlinewidth": 0,
              "ticks": ""
             }
            },
            "type": "scattercarpet"
           }
          ],
          "scattergeo": [
           {
            "marker": {
             "colorbar": {
              "outlinewidth": 0,
              "ticks": ""
             }
            },
            "type": "scattergeo"
           }
          ],
          "scattergl": [
           {
            "marker": {
             "colorbar": {
              "outlinewidth": 0,
              "ticks": ""
             }
            },
            "type": "scattergl"
           }
          ],
          "scattermapbox": [
           {
            "marker": {
             "colorbar": {
              "outlinewidth": 0,
              "ticks": ""
             }
            },
            "type": "scattermapbox"
           }
          ],
          "scatterpolar": [
           {
            "marker": {
             "colorbar": {
              "outlinewidth": 0,
              "ticks": ""
             }
            },
            "type": "scatterpolar"
           }
          ],
          "scatterpolargl": [
           {
            "marker": {
             "colorbar": {
              "outlinewidth": 0,
              "ticks": ""
             }
            },
            "type": "scatterpolargl"
           }
          ],
          "scatterternary": [
           {
            "marker": {
             "colorbar": {
              "outlinewidth": 0,
              "ticks": ""
             }
            },
            "type": "scatterternary"
           }
          ],
          "surface": [
           {
            "colorbar": {
             "outlinewidth": 0,
             "ticks": ""
            },
            "colorscale": [
             [
              0,
              "#0d0887"
             ],
             [
              0.1111111111111111,
              "#46039f"
             ],
             [
              0.2222222222222222,
              "#7201a8"
             ],
             [
              0.3333333333333333,
              "#9c179e"
             ],
             [
              0.4444444444444444,
              "#bd3786"
             ],
             [
              0.5555555555555556,
              "#d8576b"
             ],
             [
              0.6666666666666666,
              "#ed7953"
             ],
             [
              0.7777777777777778,
              "#fb9f3a"
             ],
             [
              0.8888888888888888,
              "#fdca26"
             ],
             [
              1,
              "#f0f921"
             ]
            ],
            "type": "surface"
           }
          ],
          "table": [
           {
            "cells": {
             "fill": {
              "color": "#EBF0F8"
             },
             "line": {
              "color": "white"
             }
            },
            "header": {
             "fill": {
              "color": "#C8D4E3"
             },
             "line": {
              "color": "white"
             }
            },
            "type": "table"
           }
          ]
         },
         "layout": {
          "annotationdefaults": {
           "arrowcolor": "#2a3f5f",
           "arrowhead": 0,
           "arrowwidth": 1
          },
          "autotypenumbers": "strict",
          "coloraxis": {
           "colorbar": {
            "outlinewidth": 0,
            "ticks": ""
           }
          },
          "colorscale": {
           "diverging": [
            [
             0,
             "#8e0152"
            ],
            [
             0.1,
             "#c51b7d"
            ],
            [
             0.2,
             "#de77ae"
            ],
            [
             0.3,
             "#f1b6da"
            ],
            [
             0.4,
             "#fde0ef"
            ],
            [
             0.5,
             "#f7f7f7"
            ],
            [
             0.6,
             "#e6f5d0"
            ],
            [
             0.7,
             "#b8e186"
            ],
            [
             0.8,
             "#7fbc41"
            ],
            [
             0.9,
             "#4d9221"
            ],
            [
             1,
             "#276419"
            ]
           ],
           "sequential": [
            [
             0,
             "#0d0887"
            ],
            [
             0.1111111111111111,
             "#46039f"
            ],
            [
             0.2222222222222222,
             "#7201a8"
            ],
            [
             0.3333333333333333,
             "#9c179e"
            ],
            [
             0.4444444444444444,
             "#bd3786"
            ],
            [
             0.5555555555555556,
             "#d8576b"
            ],
            [
             0.6666666666666666,
             "#ed7953"
            ],
            [
             0.7777777777777778,
             "#fb9f3a"
            ],
            [
             0.8888888888888888,
             "#fdca26"
            ],
            [
             1,
             "#f0f921"
            ]
           ],
           "sequentialminus": [
            [
             0,
             "#0d0887"
            ],
            [
             0.1111111111111111,
             "#46039f"
            ],
            [
             0.2222222222222222,
             "#7201a8"
            ],
            [
             0.3333333333333333,
             "#9c179e"
            ],
            [
             0.4444444444444444,
             "#bd3786"
            ],
            [
             0.5555555555555556,
             "#d8576b"
            ],
            [
             0.6666666666666666,
             "#ed7953"
            ],
            [
             0.7777777777777778,
             "#fb9f3a"
            ],
            [
             0.8888888888888888,
             "#fdca26"
            ],
            [
             1,
             "#f0f921"
            ]
           ]
          },
          "colorway": [
           "#636efa",
           "#EF553B",
           "#00cc96",
           "#ab63fa",
           "#FFA15A",
           "#19d3f3",
           "#FF6692",
           "#B6E880",
           "#FF97FF",
           "#FECB52"
          ],
          "font": {
           "color": "#2a3f5f"
          },
          "geo": {
           "bgcolor": "white",
           "lakecolor": "white",
           "landcolor": "#E5ECF6",
           "showlakes": true,
           "showland": true,
           "subunitcolor": "white"
          },
          "hoverlabel": {
           "align": "left"
          },
          "hovermode": "closest",
          "mapbox": {
           "style": "light"
          },
          "paper_bgcolor": "white",
          "plot_bgcolor": "#E5ECF6",
          "polar": {
           "angularaxis": {
            "gridcolor": "white",
            "linecolor": "white",
            "ticks": ""
           },
           "bgcolor": "#E5ECF6",
           "radialaxis": {
            "gridcolor": "white",
            "linecolor": "white",
            "ticks": ""
           }
          },
          "scene": {
           "xaxis": {
            "backgroundcolor": "#E5ECF6",
            "gridcolor": "white",
            "gridwidth": 2,
            "linecolor": "white",
            "showbackground": true,
            "ticks": "",
            "zerolinecolor": "white"
           },
           "yaxis": {
            "backgroundcolor": "#E5ECF6",
            "gridcolor": "white",
            "gridwidth": 2,
            "linecolor": "white",
            "showbackground": true,
            "ticks": "",
            "zerolinecolor": "white"
           },
           "zaxis": {
            "backgroundcolor": "#E5ECF6",
            "gridcolor": "white",
            "gridwidth": 2,
            "linecolor": "white",
            "showbackground": true,
            "ticks": "",
            "zerolinecolor": "white"
           }
          },
          "shapedefaults": {
           "line": {
            "color": "#2a3f5f"
           }
          },
          "ternary": {
           "aaxis": {
            "gridcolor": "white",
            "linecolor": "white",
            "ticks": ""
           },
           "baxis": {
            "gridcolor": "white",
            "linecolor": "white",
            "ticks": ""
           },
           "bgcolor": "#E5ECF6",
           "caxis": {
            "gridcolor": "white",
            "linecolor": "white",
            "ticks": ""
           }
          },
          "title": {
           "x": 0.05
          },
          "xaxis": {
           "automargin": true,
           "gridcolor": "white",
           "linecolor": "white",
           "ticks": "",
           "title": {
            "standoff": 15
           },
           "zerolinecolor": "white",
           "zerolinewidth": 2
          },
          "yaxis": {
           "automargin": true,
           "gridcolor": "white",
           "linecolor": "white",
           "ticks": "",
           "title": {
            "standoff": 15
           },
           "zerolinecolor": "white",
           "zerolinewidth": 2
          }
         }
        },
        "title": {
         "text": "Commute Distance Distribution by Attrition Status<br><sup>% of each group of employees by their commute distance</sup>",
         "x": 0.5
        },
        "xaxis": {
         "anchor": "y",
         "domain": [
          0,
          1
         ],
         "tickangle": -45,
         "title": {
          "text": "Commute Distance Bin"
         }
        },
        "yaxis": {
         "anchor": "x",
         "domain": [
          0,
          1
         ],
         "title": {
          "text": "% of Group"
         }
        }
       }
      }
     },
     "metadata": {},
     "output_type": "display_data"
    }
   ],
   "source": [
    "# Bin commute distances using whole-number logic\n",
    "df[\"CommuteBin\"] = pd.cut(\n",
    "    df[\"DistanceFromHome\"],\n",
    "    bins=range(0, int(df[\"DistanceFromHome\"].max()) + 5, 5),\n",
    "    right=False,\n",
    "    include_lowest=True\n",
    ")\n",
    "\n",
    "# Group by Attrition and CommuteBin\n",
    "grouped = (\n",
    "    df.groupby([\"Attrition\", \"CommuteBin\"], observed=False)\n",
    "    .size()\n",
    "    .reset_index(name=\"Count\")\n",
    ")\n",
    "\n",
    "# Normalize within each Attrition group\n",
    "grouped[\"GroupTotal\"] = grouped.groupby(\"Attrition\")[\"Count\"].transform(\"sum\")\n",
    "grouped[\"PercentOfGroup\"] = (grouped[\"Count\"] / grouped[\"GroupTotal\"]) * 100\n",
    "\n",
    "# Sort CommuteBin by numeric order and relabel as \"0–4\", \"5–9\", etc.\n",
    "bin_order = sorted(df[\"CommuteBin\"].unique(), key=lambda x: x.left)\n",
    "grouped[\"CommuteBin\"] = pd.Categorical(grouped[\"CommuteBin\"], categories=bin_order, ordered=True)\n",
    "grouped[\"CommuteBin\"] = grouped[\"CommuteBin\"].apply(lambda x: f\"{int(x.left)}–{int(x.right - 1)}\")\n",
    "\n",
    "# Plot\n",
    "fig = px.bar(\n",
    "    grouped,\n",
    "    x=\"CommuteBin\",\n",
    "    y=\"PercentOfGroup\",\n",
    "    color=\"Attrition\",\n",
    "    barmode=\"group\",\n",
    "    text=grouped[\"PercentOfGroup\"].round(1).astype(str) + \"%\",\n",
    "    labels={\"CommuteBin\": \"Commute Distance Bin\", \"PercentOfGroup\": \"% of Group\"},\n",
    "    title=\"Commute Distance Distribution by Attrition Status\"\n",
    ")\n",
    "\n",
    "# Subtitle and layout tweaks\n",
    "fig.update_layout(\n",
    "    title=dict(\n",
    "        text=\"Commute Distance Distribution by Attrition Status<br><sup>% of each group of employees by their commute distance</sup>\",\n",
    "        x=0.5\n",
    "    ),\n",
    "    xaxis_tickangle=-45\n",
    ")\n",
    "\n",
    "fig.update_traces(textposition=\"outside\")\n",
    "fig.show()\n"
   ]
  },
  {
   "cell_type": "markdown",
   "id": "e79e3d08",
   "metadata": {},
   "source": [
    "We see that up to 10 miles, the attrition is actually lower as a % of total employees. However, once commute increased to 10+ miles, all groupings show a higher attrition rate.\n",
    "\n",
    "To test the significance, we will see use Chi-squared to test if <10 miles> has a significance"
   ]
  },
  {
   "cell_type": "code",
   "execution_count": 45,
   "id": "93d890ea",
   "metadata": {},
   "outputs": [
    {
     "name": "stdout",
     "output_type": "stream",
     "text": [
      "Chi-squared test for Commute > 10 miles:\n",
      "  Chi² statistic: 10.440\n",
      "  p-value: 0.0012\n"
     ]
    }
   ],
   "source": [
    "from scipy.stats import chi2_contingency\n",
    "\n",
    "# Create commute category\n",
    "df[\"CommuteCategory\"] = df[\"DistanceFromHome\"] > 10  # True = long commute\n",
    "\n",
    "# Contingency table\n",
    "contingency = pd.crosstab(df[\"CommuteCategory\"], df[\"Attrition\"])\n",
    "chi2, p_val, _, _ = chi2_contingency(contingency)\n",
    "\n",
    "print(f\"Chi-squared test for Commute > 10 miles:\")\n",
    "print(f\"  Chi² statistic: {chi2:.3f}\")\n",
    "print(f\"  p-value: {p_val:.4f}\")"
   ]
  },
  {
   "cell_type": "markdown",
   "id": "2326789e",
   "metadata": {},
   "source": [
    "There is indeed a statistical significant when comparing the 0-9mile commutes and the 10+ miles commutes. The company may want to therefore revisit its return-to-work mandate if it prioritises retention."
   ]
  },
  {
   "cell_type": "markdown",
   "id": "7dd56081",
   "metadata": {},
   "source": [
    "---"
   ]
  },
  {
   "cell_type": "markdown",
   "id": "91a742db",
   "metadata": {},
   "source": [
    "### Additional insight\n",
    "\n",
    "The following graph shows attrition by job role. You will see that Sales Representative has a significantly higher attrition rate than other roles.\n",
    "\n",
    "The subsequent graph assesses job satisfaction for roles, and there does not seem to be a visual divergence between sales rep and other roles overall. This may be something that can be identified as part of machine learning.\n",
    "\n",
    "Otherwise, qualitative employee surveys/exit interviews should be used to address this role's likelihood and reasons for attrition."
   ]
  },
  {
   "cell_type": "code",
   "execution_count": null,
   "id": "cec0c767",
   "metadata": {},
   "outputs": [
    {
     "data": {
      "image/png": "[encoded data removed]",
      "text/plain": [
       "<Figure size 1000x600 with 1 Axes>"
      ]
     },
     "metadata": {},
     "output_type": "display_data"
    }
   ],
   "source": [
    "#show percentage attrition per role\n",
    "plt.figure(figsize=(10,6))\n",
    "sns.countplot(data=df, x='JobRole', hue='Attrition', palette=['skyblue', 'salmon'])\n",
    "plt.title('Employee Attrition by Job Role')\n",
    "plt.xticks(rotation=45)\n",
    "plt.show()\n"
   ]
  },
  {
   "cell_type": "code",
   "execution_count": 52,
   "id": "bfe606ed",
   "metadata": {},
   "outputs": [
    {
     "data": {
      "image/png": "[encoded data removed]",
      "text/plain": [
       "<Figure size 1400x600 with 1 Axes>"
      ]
     },
     "metadata": {},
     "output_type": "display_data"
    }
   ],
   "source": [
    "#plot ordinal job satisfaction levels against job roles split by attrition\n",
    "# Define ordered satisfaction levels\n",
    "satisfaction_levels = ['1-Low', '2-Medium', '3-High', '4-Very High']\n",
    "df['JobSatisfaction'] = pd.Categorical(df['JobSatisfaction'], categories=satisfaction_levels, ordered=True)\n",
    "\n",
    "# Group and count\n",
    "grouped = (\n",
    "    df.groupby(['JobRole', 'Attrition', 'JobSatisfaction'], observed=True)\n",
    "    .size()\n",
    "    .reset_index(name='Count')\n",
    ")\n",
    "\n",
    "# Pivot to wide format\n",
    "pivot = grouped.pivot_table(\n",
    "    index=['JobRole', 'Attrition'],\n",
    "    columns='JobSatisfaction',\n",
    "    values='Count',\n",
    "    fill_value=0\n",
    ")\n",
    "\n",
    "# Normalize to percentages\n",
    "pivot_pct = pivot.div(pivot.sum(axis=1), axis=0) * 100\n",
    "\n",
    "# Prepare plotting structure\n",
    "job_roles = pivot_pct.index.get_level_values('JobRole').unique()\n",
    "attrition_colors = {'No': ['#c6dbef', '#9ecae1', '#6baed6', '#2171b5'], 'Yes': ['#fcbba1', '#fb6a4a', '#ef3b2c', '#99000d']}\n",
    "\n",
    "fig, ax = plt.subplots(figsize=(14, 6))\n",
    "bar_width = 0.4\n",
    "x_ticks = []\n",
    "x_labels = []\n",
    "\n",
    "for i, role in enumerate(job_roles):\n",
    "    for j, attrition in enumerate(['No', 'Yes']):\n",
    "        try:\n",
    "            values = pivot_pct.loc[(role, attrition)]\n",
    "        except KeyError:\n",
    "            values = pd.Series([0] * len(satisfaction_levels), index=satisfaction_levels)\n",
    "        bottom = 0\n",
    "        xpos = i + (j - 0.5) * bar_width\n",
    "        for k, level in enumerate(satisfaction_levels):\n",
    "            ax.bar(\n",
    "                xpos,\n",
    "                values[level],\n",
    "                bottom=bottom,\n",
    "                width=bar_width,\n",
    "                color=attrition_colors[attrition][k],\n",
    "                label=f\"{attrition} - {level}\" if i == 0 else None  # only label once\n",
    "            )\n",
    "            bottom += values[level]\n",
    "    x_ticks.append(i)\n",
    "    x_labels.append(role)\n",
    "\n",
    "# Axis and legend\n",
    "ax.set_title('Job Satisfaction Distribution by Job Role and Attrition')\n",
    "ax.set_ylabel('Percentage of Employees')\n",
    "ax.set_xticks(x_ticks)\n",
    "ax.set_xticklabels(x_labels, rotation=45, ha='right')\n",
    "ax.legend(title='Attrition + Satisfaction', bbox_to_anchor=(1.05, 1), loc='upper left')\n",
    "plt.tight_layout()\n",
    "plt.show()\n",
    "\n"
   ]
  },
  {
   "cell_type": "markdown",
   "id": "ea78f6cc",
   "metadata": {},
   "source": [
    "Next we will look at whether there is any additional insight that machine learning can provide in terms of patterns/causes for attrition. Notebook employee_attrition_ml.ipynb."
   ]
  }
 ],
 "metadata": {
  "kernelspec": {
   "display_name": ".venv",
   "language": "python",
   "name": "python3"
  },
  "language_info": {
   "codemirror_mode": {
    "name": "ipython",
    "version": 3
   },
   "file_extension": ".py",
   "mimetype": "text/x-python",
   "name": "python",
   "nbconvert_exporter": "python",
   "pygments_lexer": "ipython3",
   "version": "3.11.9"
  }
 },
 "nbformat": 4,
 "nbformat_minor": 5
}
